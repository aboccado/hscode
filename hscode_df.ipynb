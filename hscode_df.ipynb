{
 "cells": [
  {
   "cell_type": "code",
   "execution_count": 2,
   "metadata": {},
   "outputs": [],
   "source": [
    "import pandas as pd\n",
    "\n",
    "df = pd.read_csv('HScode(2023).csv')"
   ]
  },
  {
   "cell_type": "code",
   "execution_count": 3,
   "metadata": {},
   "outputs": [
    {
     "data": {
      "text/plain": [
       "Index(['HS부호', '적용시작일자', '적용종료일자', '한글품목명', '영문품목명', 'HS부호내용', '한국표준무역분류명',\n",
       "       '수량단위최대단가', '중량단위최대단가', '수량단위코드', '중량단위코드', '수출성질코드', '수입성질코드', '품목규격명',\n",
       "       '필수규격명', '참고규격명', '규격설명', '규격사항내용', '성질통합분류코드', '성질통합분류코드명'],\n",
       "      dtype='object')"
      ]
     },
     "execution_count": 3,
     "metadata": {},
     "output_type": "execute_result"
    }
   ],
   "source": [
    "df.columns"
   ]
  },
  {
   "cell_type": "code",
   "execution_count": 4,
   "metadata": {},
   "outputs": [
    {
     "data": {
      "text/html": [
       "<div>\n",
       "<style scoped>\n",
       "    .dataframe tbody tr th:only-of-type {\n",
       "        vertical-align: middle;\n",
       "    }\n",
       "\n",
       "    .dataframe tbody tr th {\n",
       "        vertical-align: top;\n",
       "    }\n",
       "\n",
       "    .dataframe thead th {\n",
       "        text-align: right;\n",
       "    }\n",
       "</style>\n",
       "<table border=\"1\" class=\"dataframe\">\n",
       "  <thead>\n",
       "    <tr style=\"text-align: right;\">\n",
       "      <th></th>\n",
       "      <th>HS부호</th>\n",
       "      <th>적용시작일자</th>\n",
       "      <th>적용종료일자</th>\n",
       "      <th>한글품목명</th>\n",
       "      <th>영문품목명</th>\n",
       "      <th>HS부호내용</th>\n",
       "      <th>한국표준무역분류명</th>\n",
       "      <th>수량단위최대단가</th>\n",
       "      <th>중량단위최대단가</th>\n",
       "      <th>수량단위코드</th>\n",
       "      <th>중량단위코드</th>\n",
       "      <th>수출성질코드</th>\n",
       "      <th>수입성질코드</th>\n",
       "      <th>품목규격명</th>\n",
       "      <th>필수규격명</th>\n",
       "      <th>참고규격명</th>\n",
       "      <th>규격설명</th>\n",
       "      <th>규격사항내용</th>\n",
       "      <th>성질통합분류코드</th>\n",
       "      <th>성질통합분류코드명</th>\n",
       "    </tr>\n",
       "  </thead>\n",
       "  <tbody>\n",
       "    <tr>\n",
       "      <th>0</th>\n",
       "      <td>101211000</td>\n",
       "      <td>2013-01-01</td>\n",
       "      <td>2023-12-31</td>\n",
       "      <td>농가 사육용</td>\n",
       "      <td>For farm breeding</td>\n",
       "      <td>NaN</td>\n",
       "      <td>NaN</td>\n",
       "      <td>NaN</td>\n",
       "      <td>NaN</td>\n",
       "      <td>U</td>\n",
       "      <td>KG</td>\n",
       "      <td>11Z01</td>\n",
       "      <td>12399</td>\n",
       "      <td>NaN</td>\n",
       "      <td>NaN</td>\n",
       "      <td>NaN</td>\n",
       "      <td>NaN</td>\n",
       "      <td>NaN</td>\n",
       "      <td>11020101.0</td>\n",
       "      <td>(말)</td>\n",
       "    </tr>\n",
       "    <tr>\n",
       "      <th>1</th>\n",
       "      <td>101219000</td>\n",
       "      <td>2012-01-01</td>\n",
       "      <td>2023-12-31</td>\n",
       "      <td>기타</td>\n",
       "      <td>Other</td>\n",
       "      <td>NaN</td>\n",
       "      <td>NaN</td>\n",
       "      <td>NaN</td>\n",
       "      <td>NaN</td>\n",
       "      <td>U</td>\n",
       "      <td>KG</td>\n",
       "      <td>11Z01</td>\n",
       "      <td>12399</td>\n",
       "      <td>NaN</td>\n",
       "      <td>NaN</td>\n",
       "      <td>NaN</td>\n",
       "      <td>NaN</td>\n",
       "      <td>NaN</td>\n",
       "      <td>11020101.0</td>\n",
       "      <td>(말)</td>\n",
       "    </tr>\n",
       "    <tr>\n",
       "      <th>2</th>\n",
       "      <td>101291000</td>\n",
       "      <td>2012-01-01</td>\n",
       "      <td>2023-12-31</td>\n",
       "      <td>경주말</td>\n",
       "      <td>Horses for racing</td>\n",
       "      <td>NaN</td>\n",
       "      <td>NaN</td>\n",
       "      <td>NaN</td>\n",
       "      <td>NaN</td>\n",
       "      <td>U</td>\n",
       "      <td>KG</td>\n",
       "      <td>11Z01</td>\n",
       "      <td>12399</td>\n",
       "      <td>NaN</td>\n",
       "      <td>NaN</td>\n",
       "      <td>NaN</td>\n",
       "      <td>NaN</td>\n",
       "      <td>NaN</td>\n",
       "      <td>11020101.0</td>\n",
       "      <td>(말)</td>\n",
       "    </tr>\n",
       "    <tr>\n",
       "      <th>3</th>\n",
       "      <td>101299000</td>\n",
       "      <td>2012-01-01</td>\n",
       "      <td>2023-12-31</td>\n",
       "      <td>기타</td>\n",
       "      <td>Other</td>\n",
       "      <td>NaN</td>\n",
       "      <td>NaN</td>\n",
       "      <td>NaN</td>\n",
       "      <td>NaN</td>\n",
       "      <td>U</td>\n",
       "      <td>KG</td>\n",
       "      <td>11Z01</td>\n",
       "      <td>12399</td>\n",
       "      <td>NaN</td>\n",
       "      <td>NaN</td>\n",
       "      <td>NaN</td>\n",
       "      <td>NaN</td>\n",
       "      <td>NaN</td>\n",
       "      <td>11020101.0</td>\n",
       "      <td>(말)</td>\n",
       "    </tr>\n",
       "    <tr>\n",
       "      <th>4</th>\n",
       "      <td>101300000</td>\n",
       "      <td>2022-01-01</td>\n",
       "      <td>2023-12-31</td>\n",
       "      <td>당나귀</td>\n",
       "      <td>Asses</td>\n",
       "      <td>NaN</td>\n",
       "      <td>NaN</td>\n",
       "      <td>NaN</td>\n",
       "      <td>NaN</td>\n",
       "      <td>U</td>\n",
       "      <td>KG</td>\n",
       "      <td>11Z01</td>\n",
       "      <td>12399</td>\n",
       "      <td>NaN</td>\n",
       "      <td>NaN</td>\n",
       "      <td>NaN</td>\n",
       "      <td>NaN</td>\n",
       "      <td>NaN</td>\n",
       "      <td>11020190.0</td>\n",
       "      <td>(기타 산 동물)</td>\n",
       "    </tr>\n",
       "  </tbody>\n",
       "</table>\n",
       "</div>"
      ],
      "text/plain": [
       "        HS부호      적용시작일자      적용종료일자   한글품목명              영문품목명  HS부호내용  \\\n",
       "0  101211000  2013-01-01  2023-12-31  농가 사육용  For farm breeding     NaN   \n",
       "1  101219000  2012-01-01  2023-12-31      기타              Other     NaN   \n",
       "2  101291000  2012-01-01  2023-12-31     경주말  Horses for racing     NaN   \n",
       "3  101299000  2012-01-01  2023-12-31      기타              Other     NaN   \n",
       "4  101300000  2022-01-01  2023-12-31     당나귀              Asses     NaN   \n",
       "\n",
       "  한국표준무역분류명  수량단위최대단가  중량단위최대단가 수량단위코드 중량단위코드 수출성질코드 수입성질코드 품목규격명 필수규격명 참고규격명  \\\n",
       "0       NaN       NaN       NaN      U     KG  11Z01  12399   NaN   NaN   NaN   \n",
       "1       NaN       NaN       NaN      U     KG  11Z01  12399   NaN   NaN   NaN   \n",
       "2       NaN       NaN       NaN      U     KG  11Z01  12399   NaN   NaN   NaN   \n",
       "3       NaN       NaN       NaN      U     KG  11Z01  12399   NaN   NaN   NaN   \n",
       "4       NaN       NaN       NaN      U     KG  11Z01  12399   NaN   NaN   NaN   \n",
       "\n",
       "  규격설명 규격사항내용    성질통합분류코드  성질통합분류코드명  \n",
       "0  NaN    NaN  11020101.0        (말)  \n",
       "1  NaN    NaN  11020101.0        (말)  \n",
       "2  NaN    NaN  11020101.0        (말)  \n",
       "3  NaN    NaN  11020101.0        (말)  \n",
       "4  NaN    NaN  11020190.0  (기타 산 동물)  "
      ]
     },
     "execution_count": 4,
     "metadata": {},
     "output_type": "execute_result"
    }
   ],
   "source": [
    "df.head()"
   ]
  },
  {
   "cell_type": "code",
   "execution_count": 5,
   "metadata": {},
   "outputs": [
    {
     "data": {
      "text/plain": [
       "12422"
      ]
     },
     "execution_count": 5,
     "metadata": {},
     "output_type": "execute_result"
    }
   ],
   "source": [
    "len(df)"
   ]
  },
  {
   "cell_type": "code",
   "execution_count": 9,
   "metadata": {},
   "outputs": [
    {
     "data": {
      "text/plain": [
       "array(['KG', nan], dtype=object)"
      ]
     },
     "execution_count": 9,
     "metadata": {},
     "output_type": "execute_result"
    }
   ],
   "source": [
    "df['중량단위코드'].unique()"
   ]
  },
  {
   "cell_type": "code",
   "execution_count": 12,
   "metadata": {},
   "outputs": [],
   "source": [
    "newHS_df = df[['HS부호', '한글품목명', '영문품목명', '중량단위코드']]"
   ]
  },
  {
   "cell_type": "code",
   "execution_count": 15,
   "metadata": {},
   "outputs": [],
   "source": [
    "newHS_df.to_csv('HS_df.csv', index = True)"
   ]
  }
 ],
 "metadata": {
  "kernelspec": {
   "display_name": "Python 3",
   "language": "python",
   "name": "python3"
  },
  "language_info": {
   "codemirror_mode": {
    "name": "ipython",
    "version": 3
   },
   "file_extension": ".py",
   "mimetype": "text/x-python",
   "name": "python",
   "nbconvert_exporter": "python",
   "pygments_lexer": "ipython3",
   "version": "3.9.6"
  }
 },
 "nbformat": 4,
 "nbformat_minor": 2
}
