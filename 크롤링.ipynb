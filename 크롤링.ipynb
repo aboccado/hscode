{
 "cells": [
  {
   "cell_type": "code",
   "execution_count": 6,
   "metadata": {},
   "outputs": [],
   "source": [
    "import pandas as pd"
   ]
  },
  {
   "cell_type": "code",
   "execution_count": 4,
   "metadata": {},
   "outputs": [
    {
     "name": "stdout",
     "output_type": "stream",
     "text": [
      "[' 살아 있는 동물과 동물성 생산품', '제2류 육과 식용 설육(屑肉)', '제3류 어류ㆍ갑각류ㆍ연체동물과 그 밖의 수생(水生) 무척추동물', '제4류 낙농품, 새의 알, 천연꿀, 다른 류로 분류되지 않은 식용인 동물성 생산품', '제5류 다른 류로 분류되지 않은 동물성 생산품', ' 식물성 생산품', '제7류 식용의 채소ㆍ뿌리ㆍ괴경(塊莖)', '제8류 식용의 과실과 견과류, 감귤류ㆍ멜론의 껍질', '제9류 커피ㆍ차ㆍ마테(maté)ㆍ향신료', '제10류 곡물', '제11류 제분공업의 생산품과 맥아, 전분, 이눌린(inulin), 밀의 글루텐(gluten)', '제12류 채유(採油)에 적합한 종자와 과실, 각종 종자와 과실, 공업용ㆍ의약용 식물, 짚과 사료용 식물', '제13류 락(lac), 검ㆍ수지ㆍ그 밖의 식물성 수액과 추출물(extract)', '제14류 식물성 편조물(編組物)용 재료와 다른 류로 분류되지 않은 식물성 생산품', ' 동물성ㆍ식물성ㆍ미생물성 지방과 기름 및 이들의 분해생산물, 조제한 식용 지방과 동물성ㆍ식물성 왁스', ' 조제 식료품, 음료ㆍ주류ㆍ식초, 담배ㆍ제조한 담배 대용물, 연소시키지 않고 흡입하도록 만들어진 물품(니코틴을 함유하였는지에 상관없다), 니코틴을 함유한 그 밖의 물품으로 인체 내에 니코틴을 흡수시키도록 만들어진 것', '제17류 당류(糖類)와 설탕과자', '제18류 코코아와 그 조제품', '제19류 곡물ㆍ고운 가루ㆍ전분ㆍ밀크의 조제품과 베이커리 제품', '제20류 채소ㆍ과실ㆍ견과류나 식물의그 밖의 부분의 조제품', '제21류 각종 조제 식료품', '제22류 음료ㆍ주류ㆍ식초', '제23류 식품 공업에서 생기는 잔재물과 웨이스트(waste), 조제 사료', '제24류 담배와 제조한 담배 대용물, 연소시키지 않고흡입하도록 만들어진 물품(니코틴을 함유하였는지에 상관없다), 니코틴을 함유한 그 밖의 물품으로 인체 내에 니코틴을 흡수시키도록 만들어진 것', ' 광물성 생산품', '제26류 광(鑛)ㆍ슬래그(slag)ㆍ회(灰)', '제27류 광물성 연료ㆍ광물유(鑛物油)와 이들의 증류물, 역청(瀝靑)물질, 광물성 왁스', ' 화학공업이나 연관공업의 생산품', '제29류 유기화학품', '제30류 의료용품', '제31류 비료', '제32류 유연용ㆍ염색용 추출물(extract), 탄닌과 이들의 유도체, 염료ㆍ안료와 그 밖의 착색제, 페인트ㆍ바니시(varnish), 퍼티(putty)와 그 밖의 매스틱(mastic), 잉크', '제33류 정유(essential oil)와 레지노이드(resinoid), 조제향료와 화장품ㆍ화장용품', '제34류 비누ㆍ유기계면활성제ㆍ조제 세제ㆍ조제 윤활제ㆍ인조 왁스ㆍ조제 왁스ㆍ광택용이나 연마용 조제품ㆍ양초와 이와 유사한 물품ㆍ조형용 페이스트(paste)ㆍ치과용 왁스와 플라스터(plaster)를 기본 재료로 한 치과용 조제품', '제35류 단백질계 물질, 변성전분, 글루(glue), 효소', '제36류 화약류, 화공품, 성냥, 발화성 합금, 특정 가연성 조제품', '제37류 사진용이나 영화용 재료', '제38류 각종 화학공업 생산품', ' 플라스틱과 그 제품, 고무와 그 제품', '제40류 고무와 그 제품', ' 원피ㆍ가죽ㆍ모피와 이들의 제품, 마구, 여행용구ㆍ핸드백과 이와 유사한 용기, 동물 거트(gut)[누에의 거트(gut)는 제외한다]의 제품', '제42류 가죽제품, 마구, 여행용구ㆍ핸드백과 이와 유사한 용기, 동물 거트(gut)[누에의 거트(gut)는 제외한다]의 제품', '제43류 모피ㆍ인조모피와 이들의 제품', ' 목재와 그 제품, 목탄, 코르크와 그 제품, 짚ㆍ에스파르토(esparto)나 그 밖의 조물 재료의 제품, 바구니 세공물(basketware)과 지조세공물(枝條細工物)', '제45류 코르크(cork)와 그 제품', '제46류 짚ㆍ에스파르토(esparto)나 그 밖의 조물 재료의 제품, 바구니 세공물(basketware)과 지조세공물(枝條細工物)', ' 목재나 그 밖의 섬유질 셀룰로오스재료의 펄프, 회수한 종이ㆍ판지[웨이스트(waste)와 스크랩(scrap)], 종이ㆍ판지와 이들의 제품', '제48류 종이와 판지, 제지용 펄프ㆍ종이ㆍ판지의 제품', '제49류 인쇄서적ㆍ신문ㆍ회화ㆍ그 밖의 인쇄물, 수제(手製)문서ㆍ타자문서ㆍ도면', ' 방직용 섬유와 방직용 섬유의 제품', '제51류 양모ㆍ동물의 부드러운 털이나 거친 털ㆍ말의 털로 만든 실과 직물', '제52류 면', '제53류 그 밖의 식물성 방직용 섬유, 종이실(paper yarn)과 종이실로 만든 직물', '제54류 인조필라멘트, 인조방직용 섬유재료의 스트립(strip)과 이와 유사한 것', '제55류 인조스테이플섬유', '제56류 워딩(wadding)ㆍ펠트(felt)ㆍ부직포, 특수사, 끈ㆍ배의 밧줄(cordage)ㆍ로프ㆍ케이블과 이들의 제품', '제57류 양탄자류와 그 밖의 방직용 섬유로 만든 바닥깔개', '제58류 특수직물, 터프트(tuft)한 직물, 레이스, 태피스트리(tapestry), 트리밍(trimming), 자수천', '제59류 침투ㆍ도포ㆍ피복하거나 적층한 방직용 섬유의 직물, 공업용인 방직용 섬유제품', '제60류 메리야스 편물과 뜨개질 편물', '제61류 의류와 그 부속품(메리야스 편물이나 뜨개질 편물로 한정한다)', '제62류 의류와 그 부속품(메리야스 편물이나 뜨개질편물은 제외한다)', '제63류 제품으로 된 방직용 섬유의 그 밖의 물품, 세트, 사용하던 의류ㆍ방직용 섬유제품, 넝마', ' 신발류ㆍ모자류ㆍ산류(傘類)ㆍ지팡이ㆍ시트스틱(seat-stick)ㆍ채찍ㆍ승마용 채찍과 이들의 부분품, 조제 깃털과 그 제품, 조화, 사람 머리카락으로 된 제품', '제65류 모자류와 그 부분품', '제66류 산류(傘類)ㆍ지팡이ㆍ시트스틱(seat-stick)ㆍ채찍ㆍ승마용 채찍과 이들의 부분품', '제67류 조제 깃털ㆍ솜털과 그 제품, 조화, 사람 머리카락으로 된 제품', ' 돌ㆍ플라스터(plaster)ㆍ시멘트ㆍ석면ㆍ운모나 이와 유사한 재료의 제품, 도자제품, 유리와 유리제품', '제69류 도자제품', '제70류 유리와 유리제품', ' 천연진주ㆍ양식진주ㆍ귀석ㆍ반귀석ㆍ귀금속ㆍ귀금속을 입힌 금속과 이들의 제품, 모조 신변장식용품, 주화', ' 비금속(卑金屬)과 그 제품', '제73류 철강의 제품', '제74류 구리와 그 제품', '제75류 니켈과 그 제품', '제76류 알루미늄과 그 제품', '제77류 (유    보)', '제78류 납과 그 제품', '제79류 아연과 그 제품', '제80류 주석과 그 제품', '제81류 그 밖의 비금속(卑金屬), 서멧(cermet), 이들의 제품', '제82류 비금속(卑金屬)으로 만든 공구ㆍ도구ㆍ칼붙이ㆍ스푼ㆍ포크, 이들의 부분품', '제83류 비금속(卑金屬)으로 만든 각종 제품', ' 기계류ㆍ전기기기와 이들의 부분품, 녹음기ㆍ음성재생기ㆍ텔레비전의 영상과 음향의 기록기ㆍ재생기와 이들의 부분품ㆍ부속품', '제85류 전기기기와 그 부분품, 녹음기ㆍ음성 재생기ㆍ텔레비전의 영상과 음성의 기록기ㆍ재생기와 이들의 부분품ㆍ부속품', ' 차량ㆍ항공기ㆍ선박과 수송기기 관련품', '제87류 철도용이나 궤도용 외의 차량과 그 부분품ㆍ부속품', '제88류 항공기와 우주선, 이들의 부분품', '제89류 선박과 수상 구조물', ' 광학기기ㆍ사진용 기기ㆍ영화용 기기ㆍ측정기기ㆍ검사기기ㆍ정밀기기ㆍ의료용 기기, 시계, 악기, 이들의 부분품과 부속품', '제91류 시계와 그 부분품', '제92류 악기와 그 부분품과 부속품', ' 무기ㆍ총포탄과 이들의 부분품과 부속품', ' 잡품', '제95류 완구ㆍ게임용구ㆍ운동용구와 이들의 부분품과 부속품', '제96류 잡품', ' 예술품ㆍ수집품ㆍ골동품']\n"
     ]
    }
   ],
   "source": [
    "from selenium import webdriver\n",
    "from selenium.webdriver.common.by import By\n",
    "from selenium.webdriver.common.action_chains import ActionChains\n",
    "from webdriver_manager.chrome import ChromeDriverManager\n",
    "from selenium.webdriver.chrome.service import Service\n",
    "from bs4 import BeautifulSoup\n",
    "import time\n",
    "import pandas as pd\n",
    "\n",
    "driver = webdriver.Chrome(service= Service(ChromeDriverManager().install()))\n",
    "url = \"https://unipass.customs.go.kr/clip/index.do\"\n",
    "driver.get(url)\n",
    "\n",
    "hover_element = driver.find_element(By.XPATH, '//*[@id=\"TOPMENU_LNK_M_ULS0200000000\"]/span')\n",
    "click_element = driver.find_element(By.XPATH, '//*[@id=\"TOPMENU_LNK_UI-ULS-0201-002Q\"]/span')\n",
    "\n",
    "actions = ActionChains(driver)\n",
    "actions.move_to_element(hover_element).perform()  # 마우스를 hover_element 위로 이동\n",
    "actions.click(click_element).perform()  # click_element 클릭\n",
    "\n",
    "time.sleep(5)  # 페이지가 완전히 로드될 때까지 기다림\n",
    "\n",
    "# 페이지의 HTML을 가져와 BeautifulSoup 객체를 생성\n",
    "soup = BeautifulSoup(driver.page_source, 'html.parser')\n",
    "\n",
    "# 테이블의 모든 행을 찾음\n",
    "rows = soup.select('div div div form div table tbody tr')\n",
    "\n",
    "# 각 행에서 텍스트를 추출\n",
    "texts = []  # 텍스트를 저장할 리스트\n",
    "for row in rows:\n",
    "    a_tag = row.select_one('td:nth-child(2) a')\n",
    "    if a_tag:  # a 태그가 존재하는 경우에만 텍스트를 추출\n",
    "        text = a_tag.text\n",
    "        texts.append(text)  # 텍스트를 리스트에 추가\n",
    "\n",
    "print(texts)  # 모든 텍스트를 출력"
   ]
  },
  {
   "cell_type": "code",
   "execution_count": 9,
   "metadata": {},
   "outputs": [],
   "source": [
    "df = pd.DataFrame(texts, columns=['한글명'],dtype=str)"
   ]
  },
  {
   "cell_type": "code",
   "execution_count": 26,
   "metadata": {},
   "outputs": [],
   "source": [
    "df['한글명'] = df['한글명'].str.replace('제\\\\d+류', '', regex=True)"
   ]
  },
  {
   "cell_type": "code",
   "execution_count": 27,
   "metadata": {},
   "outputs": [
    {
     "data": {
      "text/html": [
       "<div>\n",
       "<style scoped>\n",
       "    .dataframe tbody tr th:only-of-type {\n",
       "        vertical-align: middle;\n",
       "    }\n",
       "\n",
       "    .dataframe tbody tr th {\n",
       "        vertical-align: top;\n",
       "    }\n",
       "\n",
       "    .dataframe thead th {\n",
       "        text-align: right;\n",
       "    }\n",
       "</style>\n",
       "<table border=\"1\" class=\"dataframe\">\n",
       "  <thead>\n",
       "    <tr style=\"text-align: right;\">\n",
       "      <th></th>\n",
       "      <th>한글명</th>\n",
       "    </tr>\n",
       "  </thead>\n",
       "  <tbody>\n",
       "    <tr>\n",
       "      <th>0</th>\n",
       "      <td>살아 있는 동물과 동물성 생산품</td>\n",
       "    </tr>\n",
       "    <tr>\n",
       "      <th>1</th>\n",
       "      <td>육과 식용 설육(屑肉)</td>\n",
       "    </tr>\n",
       "    <tr>\n",
       "      <th>2</th>\n",
       "      <td>어류ㆍ갑각류ㆍ연체동물과 그 밖의 수생(水生) 무척추동물</td>\n",
       "    </tr>\n",
       "    <tr>\n",
       "      <th>3</th>\n",
       "      <td>낙농품, 새의 알, 천연꿀, 다른 류로 분류되지 않은 식용인 동물성 생산품</td>\n",
       "    </tr>\n",
       "    <tr>\n",
       "      <th>4</th>\n",
       "      <td>다른 류로 분류되지 않은 동물성 생산품</td>\n",
       "    </tr>\n",
       "    <tr>\n",
       "      <th>...</th>\n",
       "      <td>...</td>\n",
       "    </tr>\n",
       "    <tr>\n",
       "      <th>92</th>\n",
       "      <td>무기ㆍ총포탄과 이들의 부분품과 부속품</td>\n",
       "    </tr>\n",
       "    <tr>\n",
       "      <th>93</th>\n",
       "      <td>잡품</td>\n",
       "    </tr>\n",
       "    <tr>\n",
       "      <th>94</th>\n",
       "      <td>완구ㆍ게임용구ㆍ운동용구와 이들의 부분품과 부속품</td>\n",
       "    </tr>\n",
       "    <tr>\n",
       "      <th>95</th>\n",
       "      <td>잡품</td>\n",
       "    </tr>\n",
       "    <tr>\n",
       "      <th>96</th>\n",
       "      <td>예술품ㆍ수집품ㆍ골동품</td>\n",
       "    </tr>\n",
       "  </tbody>\n",
       "</table>\n",
       "<p>97 rows × 1 columns</p>\n",
       "</div>"
      ],
      "text/plain": [
       "                                           한글명\n",
       "0                            살아 있는 동물과 동물성 생산품\n",
       "1                                 육과 식용 설육(屑肉)\n",
       "2               어류ㆍ갑각류ㆍ연체동물과 그 밖의 수생(水生) 무척추동물\n",
       "3    낙농품, 새의 알, 천연꿀, 다른 류로 분류되지 않은 식용인 동물성 생산품\n",
       "4                        다른 류로 분류되지 않은 동물성 생산품\n",
       "..                                         ...\n",
       "92                        무기ㆍ총포탄과 이들의 부분품과 부속품\n",
       "93                                          잡품\n",
       "94                  완구ㆍ게임용구ㆍ운동용구와 이들의 부분품과 부속품\n",
       "95                                          잡품\n",
       "96                                 예술품ㆍ수집품ㆍ골동품\n",
       "\n",
       "[97 rows x 1 columns]"
      ]
     },
     "execution_count": 27,
     "metadata": {},
     "output_type": "execute_result"
    }
   ],
   "source": [
    "df"
   ]
  }
 ],
 "metadata": {
  "kernelspec": {
   "display_name": "Python 3",
   "language": "python",
   "name": "python3"
  },
  "language_info": {
   "codemirror_mode": {
    "name": "ipython",
    "version": 3
   },
   "file_extension": ".py",
   "mimetype": "text/x-python",
   "name": "python",
   "nbconvert_exporter": "python",
   "pygments_lexer": "ipython3",
   "version": "3.12.1"
  }
 },
 "nbformat": 4,
 "nbformat_minor": 2
}
