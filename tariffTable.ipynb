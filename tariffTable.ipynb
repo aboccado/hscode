{
 "cells": [
  {
   "cell_type": "code",
   "execution_count": 26,
   "metadata": {},
   "outputs": [
    {
     "name": "stdout",
     "output_type": "stream",
     "text": [
      "<Response [200]>\n"
     ]
    }
   ],
   "source": [
    "params = {\n",
    "    'serviceKey': 'gGDom+BIbgsPl1jf3j7m6aMaMtBwgPBtgrenGKVs8VX2Ap9RcGYULywUHIvwxp2bI/XJ9Z7DJMqwuO8RRVMofw==',\n",
    "    'page': '2',\n",
    "    'perPage': '1000'\n",
    "}\n",
    "\n",
    "response = requests.get('https://api.odcloud.kr/api/15051179/v1/uddi:7f43bd09-d336-4d62-aa5e-de6f7c154ec2', params=params)\n",
    "\n",
    "# 응답 내용을 출력합니다.\n",
    "print(response)"
   ]
  },
  {
   "cell_type": "code",
   "execution_count": 27,
   "metadata": {},
   "outputs": [],
   "source": [
    "import json\n",
    "\n",
    "data = json.loads(response.text)"
   ]
  },
  {
   "cell_type": "code",
   "execution_count": 28,
   "metadata": {},
   "outputs": [],
   "source": [
    "import pandas as pd\n",
    "\n",
    "df = pd.DataFrame(data['data'])"
   ]
  },
  {
   "cell_type": "code",
   "execution_count": 31,
   "metadata": {},
   "outputs": [],
   "source": [
    "params = {\n",
    "    'serviceKey': 'gGDom+BIbgsPl1jf3j7m6aMaMtBwgPBtgrenGKVs8VX2Ap9RcGYULywUHIvwxp2bI/XJ9Z7DJMqwuO8RRVMofw==',\n",
    "    'page': '1',\n",
    "    'perPage': '1000'  # 한 번의 요청으로 얻을 수 있는 최대 항목 수\n",
    "}\n",
    "\n",
    "url = 'https://api.odcloud.kr/api/15051179/v1/uddi:7f43bd09-d336-4d62-aa5e-de6f7c154ec2'\n",
    "\n",
    "# 첫 번째 요청을 보내서 총 항목 수를 확인\n",
    "response = requests.get(url, params=params)\n",
    "data = json.loads(response.text)\n",
    "total_count = data['totalCount']\n",
    "\n",
    "# 총 페이지 수 계산\n",
    "total_pages = total_count // int(params['perPage']) + (total_count % int(params['perPage']) > 0)\n",
    "\n",
    "# 모든 페이지에 대해 요청을 반복\n",
    "all_data = []\n",
    "for page in range(1, total_pages + 1):\n",
    "    params['page'] = str(page)\n",
    "    response = requests.get(url, params=params)\n",
    "    data = json.loads(response.text)\n",
    "    all_data.extend(data['data'])\n",
    "\n",
    "# all_data에는 이제 API가 제공하는 모든 데이터가 포함되어 있습니다."
   ]
  },
  {
   "cell_type": "code",
   "execution_count": 33,
   "metadata": {},
   "outputs": [],
   "source": [
    "df = pd.DataFrame(all_data)"
   ]
  },
  {
   "cell_type": "code",
   "execution_count": 43,
   "metadata": {},
   "outputs": [
    {
     "data": {
      "text/plain": [
       "(367969, 9)"
      ]
     },
     "execution_count": 43,
     "metadata": {},
     "output_type": "execute_result"
    }
   ],
   "source": [
    "df.shape"
   ]
  },
  {
   "cell_type": "code",
   "execution_count": 38,
   "metadata": {},
   "outputs": [
    {
     "data": {
      "text/html": [
       "<div>\n",
       "<style scoped>\n",
       "    .dataframe tbody tr th:only-of-type {\n",
       "        vertical-align: middle;\n",
       "    }\n",
       "\n",
       "    .dataframe tbody tr th {\n",
       "        vertical-align: top;\n",
       "    }\n",
       "\n",
       "    .dataframe thead th {\n",
       "        text-align: right;\n",
       "    }\n",
       "</style>\n",
       "<table border=\"1\" class=\"dataframe\">\n",
       "  <thead>\n",
       "    <tr style=\"text-align: right;\">\n",
       "      <th></th>\n",
       "      <th>관세율</th>\n",
       "      <th>관세율구분</th>\n",
       "      <th>기준가격</th>\n",
       "      <th>단위당세액</th>\n",
       "      <th>용도세율구분</th>\n",
       "      <th>적용개시일</th>\n",
       "      <th>적용국가구분</th>\n",
       "      <th>적용만료일</th>\n",
       "      <th>품목번호</th>\n",
       "    </tr>\n",
       "  </thead>\n",
       "  <tbody>\n",
       "    <tr>\n",
       "      <th>0</th>\n",
       "      <td>0.00</td>\n",
       "      <td>A</td>\n",
       "      <td>NaN</td>\n",
       "      <td>None</td>\n",
       "      <td>None</td>\n",
       "      <td>2024-01-01</td>\n",
       "      <td>1</td>\n",
       "      <td>2024-12-31</td>\n",
       "      <td>101211000</td>\n",
       "    </tr>\n",
       "    <tr>\n",
       "      <th>1</th>\n",
       "      <td>8.00</td>\n",
       "      <td>A</td>\n",
       "      <td>NaN</td>\n",
       "      <td>None</td>\n",
       "      <td>None</td>\n",
       "      <td>2024-01-01</td>\n",
       "      <td>1</td>\n",
       "      <td>2024-12-31</td>\n",
       "      <td>101219000</td>\n",
       "    </tr>\n",
       "    <tr>\n",
       "      <th>2</th>\n",
       "      <td>8.00</td>\n",
       "      <td>A</td>\n",
       "      <td>NaN</td>\n",
       "      <td>None</td>\n",
       "      <td>None</td>\n",
       "      <td>2024-01-01</td>\n",
       "      <td>1</td>\n",
       "      <td>2024-12-31</td>\n",
       "      <td>101291000</td>\n",
       "    </tr>\n",
       "    <tr>\n",
       "      <th>3</th>\n",
       "      <td>8.00</td>\n",
       "      <td>A</td>\n",
       "      <td>NaN</td>\n",
       "      <td>None</td>\n",
       "      <td>None</td>\n",
       "      <td>2024-01-01</td>\n",
       "      <td>1</td>\n",
       "      <td>2024-12-31</td>\n",
       "      <td>101299000</td>\n",
       "    </tr>\n",
       "    <tr>\n",
       "      <th>4</th>\n",
       "      <td>8.00</td>\n",
       "      <td>A</td>\n",
       "      <td>NaN</td>\n",
       "      <td>None</td>\n",
       "      <td>None</td>\n",
       "      <td>2024-01-01</td>\n",
       "      <td>1</td>\n",
       "      <td>2024-12-31</td>\n",
       "      <td>101300000</td>\n",
       "    </tr>\n",
       "  </tbody>\n",
       "</table>\n",
       "</div>"
      ],
      "text/plain": [
       "    관세율 관세율구분  기준가격 단위당세액 용도세율구분       적용개시일  적용국가구분       적용만료일       품목번호\n",
       "0  0.00     A   NaN  None   None  2024-01-01       1  2024-12-31  101211000\n",
       "1  8.00     A   NaN  None   None  2024-01-01       1  2024-12-31  101219000\n",
       "2  8.00     A   NaN  None   None  2024-01-01       1  2024-12-31  101291000\n",
       "3  8.00     A   NaN  None   None  2024-01-01       1  2024-12-31  101299000\n",
       "4  8.00     A   NaN  None   None  2024-01-01       1  2024-12-31  101300000"
      ]
     },
     "execution_count": 38,
     "metadata": {},
     "output_type": "execute_result"
    }
   ],
   "source": [
    "df.head()"
   ]
  },
  {
   "cell_type": "code",
   "execution_count": 42,
   "metadata": {},
   "outputs": [
    {
     "name": "stdout",
     "output_type": "stream",
     "text": [
      "True\n"
     ]
    }
   ],
   "source": [
    "duplicates = df.duplicated(subset='품목번호', keep=False)\n",
    "print(duplicates.any())"
   ]
  },
  {
   "cell_type": "code",
   "execution_count": 46,
   "metadata": {},
   "outputs": [
    {
     "name": "stdout",
     "output_type": "stream",
     "text": [
      "          관세율 관세율구분  기준가격    단위당세액 용도세율구분       적용개시일  적용국가구분       적용만료일  \\\n",
      "11293    5.00    A1   NaN     None   None  2024-01-01       1  2024-12-31   \n",
      "11294    5.00    A1   NaN     None   None  2024-01-01       1  2024-12-31   \n",
      "11295   13.10     C   NaN     None   None  2024-01-01       1  2024-12-31   \n",
      "11296   13.10     C   NaN     None   None  2024-01-01       1  2024-12-31   \n",
      "11297   13.10     C   NaN     None   None  2024-01-01       1  2024-12-31   \n",
      "...       ...   ...   ...      ...    ...         ...     ...         ...   \n",
      "367964  51.00    W2   NaN   5276.0   None  2024-01-01       1  2024-12-31   \n",
      "367965  51.70    W2   NaN  17215.0   None  2024-01-01       1  2024-12-31   \n",
      "367966  51.70    W2   NaN  17215.0   None  2024-01-01       1  2024-12-31   \n",
      "367967  51.70    W2   NaN  17215.0   None  2024-01-01       1  2024-12-31   \n",
      "367968  51.70    W2   NaN  17215.0   None  2024-01-01       1  2024-12-31   \n",
      "\n",
      "              품목번호  \n",
      "11293   8448320000  \n",
      "11294   8448330000  \n",
      "11295    101211000  \n",
      "11296    101219000  \n",
      "11297    101291000  \n",
      "...            ...  \n",
      "367964  5001000000  \n",
      "367965  5002001020  \n",
      "367966  5002001030  \n",
      "367967  5002001040  \n",
      "367968  5002001050  \n",
      "\n",
      "[356676 rows x 9 columns]\n",
      "Number of duplicated rows: 356676\n"
     ]
    }
   ],
   "source": [
    "# 중복된 '품목번호'를 가진 모든 행을 찾습니다.\n",
    "duplicated_rows = df[df.duplicated(subset='품목번호', keep='first')]\n",
    "\n",
    "# 중복된 행을 출력합니다.\n",
    "print(duplicated_rows)\n",
    "\n",
    "# 중복된 행의 개수를 출력합니다.\n",
    "print('Number of duplicated rows:', len(duplicated_rows))"
   ]
  },
  {
   "cell_type": "code",
   "execution_count": 48,
   "metadata": {},
   "outputs": [
    {
     "name": "stdout",
     "output_type": "stream",
     "text": [
      "          관세율   관세율구분  기준가격 단위당세액 용도세율구분       적용개시일  적용국가구분       적용만료일  \\\n",
      "8790     8.00       A   NaN  None   None  2024-01-01       1  2024-12-31   \n",
      "11293    5.00      A1   NaN  None   None  2024-01-01       1  2024-12-31   \n",
      "19029   13.00       C   NaN  None   None  2024-01-01       1  2024-12-31   \n",
      "34962    0.00    FAS1   NaN  None   None  2024-01-01       2  2024-12-31   \n",
      "46527    0.00    FAU1   NaN  None   None  2024-01-01       2  2024-12-31   \n",
      "57871    0.00    FCA1   NaN  None   None  2024-01-01       2  2024-12-31   \n",
      "68689    0.00  FCECR1   NaN  None   None  2024-01-01       2  2024-12-31   \n",
      "79491    0.00  FCEHN1   NaN  None   None  2024-01-01       2  2024-12-31   \n",
      "90337    0.00  FCENI1   NaN  None   None  2024-01-01       2  2024-12-31   \n",
      "101159   0.00  FCEPA1   NaN  None   None  2024-01-01       2  2024-12-31   \n",
      "111970   0.00  FCESV1   NaN  None   None  2024-01-01       2  2024-12-31   \n",
      "122803   0.00    FCL1   NaN  None   None  2024-01-01       2  2024-12-31   \n",
      "134109   0.00    FCN1   NaN  None   None  2024-01-01       2  2024-12-31   \n",
      "145611   0.00    FCO1   NaN  None   None  2024-01-01       2  2024-12-31   \n",
      "155610   0.00    FEF1   NaN  None   None  2024-01-01       2  2024-12-31   \n",
      "167892   0.00    FEU1   NaN  None   None  2024-01-01       2  2024-06-30   \n",
      "179226   0.00    FGB1   NaN  None   None  2024-01-01       2  2024-06-30   \n",
      "190057   0.00    FID1   NaN  None   None  2024-01-01       2  2024-12-31   \n",
      "201381   0.00    FIL1   NaN  None   None  2024-01-01       2  2024-12-31   \n",
      "211740   0.00    FIN1   NaN  None   None  2024-01-01       2  2024-12-31   \n",
      "223064   0.00    FKH1   NaN  None   None  2024-01-01       2  2024-12-31   \n",
      "234433   0.00    FNZ1   NaN  None   None  2024-01-01       2  2024-12-31   \n",
      "245788   0.00    FPE1   NaN  None   None  2024-01-01       2  2024-12-31   \n",
      "256673   0.00  FRCAS1   NaN  None   None  2024-01-01       2  2024-12-31   \n",
      "267841   0.00  FRCAU1   NaN  None   None  2024-01-01       2  2024-12-31   \n",
      "278105   0.00  FRCCN1   NaN  None   None  2024-01-01       2  2024-12-31   \n",
      "287662   5.60  FRCJP1   NaN  None   None  2024-01-01       2  2024-12-31   \n",
      "290092   0.00  FRCJP2   NaN  None   None  2024-01-01       2  2024-12-31   \n",
      "298676   0.00  FRCNZ1   NaN  None   None  2024-01-01       2  2024-12-31   \n",
      "309092   0.00    FSG1   NaN  None   None  2024-01-01       2  2024-12-31   \n",
      "320332   0.00    FTR1   NaN  None   None  2024-01-01       2  2024-12-31   \n",
      "331729   0.00    FUS1   NaN  None   None  2024-01-01       2  2024-12-31   \n",
      "343158   0.00    FVN1   NaN  None   None  2024-01-01       2  2024-12-31   \n",
      "353612   0.00       R   NaN  None   None  2024-01-01       2  2024-12-31   \n",
      "364960   0.00       U   NaN  None   None  2024-01-01       1  2024-12-31   \n",
      "\n",
      "              품목번호  \n",
      "8790    8448320000  \n",
      "11293   8448320000  \n",
      "19029   8448320000  \n",
      "34962   8448320000  \n",
      "46527   8448320000  \n",
      "57871   8448320000  \n",
      "68689   8448320000  \n",
      "79491   8448320000  \n",
      "90337   8448320000  \n",
      "101159  8448320000  \n",
      "111970  8448320000  \n",
      "122803  8448320000  \n",
      "134109  8448320000  \n",
      "145611  8448320000  \n",
      "155610  8448320000  \n",
      "167892  8448320000  \n",
      "179226  8448320000  \n",
      "190057  8448320000  \n",
      "201381  8448320000  \n",
      "211740  8448320000  \n",
      "223064  8448320000  \n",
      "234433  8448320000  \n",
      "245788  8448320000  \n",
      "256673  8448320000  \n",
      "267841  8448320000  \n",
      "278105  8448320000  \n",
      "287662  8448320000  \n",
      "290092  8448320000  \n",
      "298676  8448320000  \n",
      "309092  8448320000  \n",
      "320332  8448320000  \n",
      "331729  8448320000  \n",
      "343158  8448320000  \n",
      "353612  8448320000  \n",
      "364960  8448320000  \n"
     ]
    }
   ],
   "source": [
    "# '품목번호'가 8448320000인 모든 행을 찾습니다.\n",
    "selected_rows = df[df['품목번호'] == 8448320000]\n",
    "\n",
    "# 선택된 행을 출력합니다.\n",
    "print(selected_rows)"
   ]
  },
  {
   "cell_type": "code",
   "execution_count": 49,
   "metadata": {},
   "outputs": [
    {
     "data": {
      "text/plain": [
       "11293"
      ]
     },
     "execution_count": 49,
     "metadata": {},
     "output_type": "execute_result"
    }
   ],
   "source": [
    "367969-356676"
   ]
  },
  {
   "cell_type": "code",
   "execution_count": 56,
   "metadata": {},
   "outputs": [
    {
     "data": {
      "text/plain": [
       "11293"
      ]
     },
     "execution_count": 56,
     "metadata": {},
     "output_type": "execute_result"
    }
   ],
   "source": [
    "unique_values = df['품목번호'].unique()\n",
    "len(unique_values)"
   ]
  },
  {
   "cell_type": "code",
   "execution_count": 62,
   "metadata": {},
   "outputs": [
    {
     "data": {
      "text/plain": [
       "array([1, 2])"
      ]
     },
     "execution_count": 62,
     "metadata": {},
     "output_type": "execute_result"
    }
   ],
   "source": [
    "unique_values = df['적용국가구분'].unique()\n",
    "unique_values"
   ]
  },
  {
   "cell_type": "code",
   "execution_count": 59,
   "metadata": {},
   "outputs": [
    {
     "data": {
      "text/plain": [
       "array(['A', 'A1', 'C', 'C1', 'C2', 'C2A1', 'C2A2', 'C2A3', 'C2A4', 'C2A5',\n",
       "       'C2A6', 'C2A7', 'C2A8', 'C3', 'C4', 'C5', 'C6', 'D', 'E1', 'E1A1',\n",
       "       'E1A10', 'E1A2', 'E1A3', 'E1A4', 'E1A5', 'E1A6', 'E1A7', 'E1A8',\n",
       "       'E1A9', 'E1B1', 'E1B2', 'E1B3', 'E1B4', 'E2', 'E2A1', 'E2A2',\n",
       "       'E2A3', 'E3', 'E3A1', 'E3A2', 'E3A3', 'F', 'FAS1', 'FAS2', 'FAS3',\n",
       "       'FAS4', 'FASID', 'FASPH1', 'FASPH2', 'FASPH3', 'FASTH', 'FASVN1',\n",
       "       'FASVN2', 'FAU1', 'FAU2', 'FAU3', 'FAU4', 'FAU5', 'FAU8', 'FAU9',\n",
       "       'FCA1', 'FCA2', 'FCA3', 'FCA4', 'FCA5', 'FCA6', 'FCA8', 'FCA9',\n",
       "       'FCECR1', 'FCECR2', 'FCECR3', 'FCECR4', 'FCECR5', 'FCEHN1',\n",
       "       'FCEHN2', 'FCEHN3', 'FCEHN4', 'FCEHN5', 'FCEHN7', 'FCENI1',\n",
       "       'FCENI2', 'FCENI3', 'FCENI4', 'FCENI5', 'FCENI7', 'FCEPA1',\n",
       "       'FCEPA2', 'FCEPA3', 'FCEPA4', 'FCEPA5', 'FCEPA6', 'FCEPA7',\n",
       "       'FCEPA8', 'FCESV1', 'FCESV2', 'FCESV3', 'FCESV4', 'FCESV5',\n",
       "       'FCESV7', 'FCL1', 'FCL5', 'FCN1', 'FCN10', 'FCN2', 'FCN3', 'FCN4',\n",
       "       'FCN5', 'FCN6', 'FCN7', 'FCN8', 'FCN9', 'FCO1', 'FCO2', 'FCO3',\n",
       "       'FCO4', 'FCO5', 'FCO7', 'FCO8', 'FEF1', 'FEF2', 'FEF3', 'FEF4',\n",
       "       'FEFCH', 'FEFCH1', 'FEFIS', 'FEFIS1', 'FEFIS2', 'FEFNO', 'FEFNO1',\n",
       "       'FEU1', 'FEU2', 'FEU3', 'FEU6', 'FEU7', 'FGB1', 'FGB2', 'FGB3',\n",
       "       'FGB8', 'FGB9', 'FID1', 'FID2', 'FID3', 'FIL1', 'FIL2', 'FIL3',\n",
       "       'FIL4', 'FIL5', 'FIN1', 'FIN2', 'FKH1', 'FKH2', 'FKH3', 'FKH4',\n",
       "       'FNZ1', 'FNZ10', 'FNZ2', 'FNZ3', 'FNZ4', 'FNZ5', 'FNZ6', 'FNZ8',\n",
       "       'FNZ9', 'FPE1', 'FPE2', 'FPE3', 'FPE4', 'FRCAS1', 'FRCAS2',\n",
       "       'FRCAS3', 'FRCAS4', 'FRCAS5', 'FRCAS6', 'FRCAS7', 'FRCAS8',\n",
       "       'FRCAU1', 'FRCAU2', 'FRCAU3', 'FRCAU4', 'FRCAU5', 'FRCAU6',\n",
       "       'FRCAU7', 'FRCAU8', 'FRCCN1', 'FRCCN2', 'FRCCN3', 'FRCCN4',\n",
       "       'FRCCN5', 'FRCJP1', 'FRCJP2', 'FRCJP3', 'FRCJP4', 'FRCJP5',\n",
       "       'FRCJP6', 'FRCJP9', 'FRCNZ1', 'FRCNZ2', 'FRCNZ3', 'FRCNZ4',\n",
       "       'FRCNZ5', 'FRCNZ6', 'FRCNZ7', 'FRCNZ8', 'FSG1', 'FTR1', 'FTR2',\n",
       "       'FTR3', 'FTR4', 'FTR5', 'FTR6', 'FTR7', 'FUS1', 'FUS2', 'FUS3',\n",
       "       'FUS5', 'FUS6', 'FUS8', 'FVN1', 'FVN2', 'FVN3', 'FVN4', 'FVN5',\n",
       "       'FVN6', 'FVN7', 'FVN8', 'G1', 'G2', 'L', 'P1', 'P3', 'R', 'T1',\n",
       "       'T2', 'U', 'W1', 'W2'], dtype=object)"
      ]
     },
     "execution_count": 59,
     "metadata": {},
     "output_type": "execute_result"
    }
   ],
   "source": [
    "unique_values = df['관세율구분'].unique()\n",
    "unique_values"
   ]
  },
  {
   "cell_type": "code",
   "execution_count": 63,
   "metadata": {},
   "outputs": [
    {
     "data": {
      "text/plain": [
       "array([None, 'A', 'C'], dtype=object)"
      ]
     },
     "execution_count": 63,
     "metadata": {},
     "output_type": "execute_result"
    }
   ],
   "source": [
    "unique_values = df['용도세율구분'].unique()\n",
    "unique_values"
   ]
  },
  {
   "cell_type": "code",
   "execution_count": 64,
   "metadata": {},
   "outputs": [
    {
     "data": {
      "text/html": [
       "<div>\n",
       "<style scoped>\n",
       "    .dataframe tbody tr th:only-of-type {\n",
       "        vertical-align: middle;\n",
       "    }\n",
       "\n",
       "    .dataframe tbody tr th {\n",
       "        vertical-align: top;\n",
       "    }\n",
       "\n",
       "    .dataframe thead th {\n",
       "        text-align: right;\n",
       "    }\n",
       "</style>\n",
       "<table border=\"1\" class=\"dataframe\">\n",
       "  <thead>\n",
       "    <tr style=\"text-align: right;\">\n",
       "      <th></th>\n",
       "      <th>품목번호</th>\n",
       "      <th>관세율</th>\n",
       "      <th>관세율구분</th>\n",
       "      <th>용도세율구분</th>\n",
       "      <th>적용개시일</th>\n",
       "      <th>적용만료일</th>\n",
       "    </tr>\n",
       "  </thead>\n",
       "  <tbody>\n",
       "    <tr>\n",
       "      <th>0</th>\n",
       "      <td>101211000</td>\n",
       "      <td>0.00</td>\n",
       "      <td>A</td>\n",
       "      <td>None</td>\n",
       "      <td>2024-01-01</td>\n",
       "      <td>2024-12-31</td>\n",
       "    </tr>\n",
       "    <tr>\n",
       "      <th>1</th>\n",
       "      <td>101219000</td>\n",
       "      <td>8.00</td>\n",
       "      <td>A</td>\n",
       "      <td>None</td>\n",
       "      <td>2024-01-01</td>\n",
       "      <td>2024-12-31</td>\n",
       "    </tr>\n",
       "    <tr>\n",
       "      <th>2</th>\n",
       "      <td>101291000</td>\n",
       "      <td>8.00</td>\n",
       "      <td>A</td>\n",
       "      <td>None</td>\n",
       "      <td>2024-01-01</td>\n",
       "      <td>2024-12-31</td>\n",
       "    </tr>\n",
       "    <tr>\n",
       "      <th>3</th>\n",
       "      <td>101299000</td>\n",
       "      <td>8.00</td>\n",
       "      <td>A</td>\n",
       "      <td>None</td>\n",
       "      <td>2024-01-01</td>\n",
       "      <td>2024-12-31</td>\n",
       "    </tr>\n",
       "    <tr>\n",
       "      <th>4</th>\n",
       "      <td>101300000</td>\n",
       "      <td>8.00</td>\n",
       "      <td>A</td>\n",
       "      <td>None</td>\n",
       "      <td>2024-01-01</td>\n",
       "      <td>2024-12-31</td>\n",
       "    </tr>\n",
       "  </tbody>\n",
       "</table>\n",
       "</div>"
      ],
      "text/plain": [
       "        품목번호   관세율 관세율구분 용도세율구분       적용개시일       적용만료일\n",
       "0  101211000  0.00     A   None  2024-01-01  2024-12-31\n",
       "1  101219000  8.00     A   None  2024-01-01  2024-12-31\n",
       "2  101291000  8.00     A   None  2024-01-01  2024-12-31\n",
       "3  101299000  8.00     A   None  2024-01-01  2024-12-31\n",
       "4  101300000  8.00     A   None  2024-01-01  2024-12-31"
      ]
     },
     "execution_count": 64,
     "metadata": {},
     "output_type": "execute_result"
    }
   ],
   "source": [
    "new_df = df[['품목번호','관세율','관세율구분','용도세율구분','적용개시일','적용만료일']]\n",
    "\n",
    "new_df.head()"
   ]
  }
 ],
 "metadata": {
  "kernelspec": {
   "display_name": "Python 3",
   "language": "python",
   "name": "python3"
  },
  "language_info": {
   "codemirror_mode": {
    "name": "ipython",
    "version": 3
   },
   "file_extension": ".py",
   "mimetype": "text/x-python",
   "name": "python",
   "nbconvert_exporter": "python",
   "pygments_lexer": "ipython3",
   "version": "3.9.6"
  }
 },
 "nbformat": 4,
 "nbformat_minor": 2
}
